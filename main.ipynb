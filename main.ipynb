{
 "cells": [
  {
   "cell_type": "code",
   "execution_count": 1,
   "metadata": {},
   "outputs": [],
   "source": [
    "from utils.utils import *"
   ]
  },
  {
   "cell_type": "code",
   "execution_count": 2,
   "metadata": {},
   "outputs": [
    {
     "data": {
      "text/plain": [
       "{'data': 'diabetes2_csv.csv',\n",
       " 'drop': ['RAND()'],\n",
       " 'target': 'Outcome',\n",
       " 'test_size': 0.33}"
      ]
     },
     "execution_count": 2,
     "metadata": {},
     "output_type": "execute_result"
    }
   ],
   "source": [
    "# load config file from \"config/config.json\"\n",
    "config = load_config(\"config/config.json\")\n",
    "config"
   ]
  },
  {
   "cell_type": "code",
   "execution_count": 3,
   "metadata": {},
   "outputs": [
    {
     "data": {
      "text/html": [
       "<div>\n",
       "<style scoped>\n",
       "    .dataframe tbody tr th:only-of-type {\n",
       "        vertical-align: middle;\n",
       "    }\n",
       "\n",
       "    .dataframe tbody tr th {\n",
       "        vertical-align: top;\n",
       "    }\n",
       "\n",
       "    .dataframe thead th {\n",
       "        text-align: right;\n",
       "    }\n",
       "</style>\n",
       "<table border=\"1\" class=\"dataframe\">\n",
       "  <thead>\n",
       "    <tr style=\"text-align: right;\">\n",
       "      <th></th>\n",
       "      <th>Pregnancies</th>\n",
       "      <th>Glucose</th>\n",
       "      <th>BloodPressure</th>\n",
       "      <th>SkinThickness</th>\n",
       "      <th>Insulin</th>\n",
       "      <th>BMI</th>\n",
       "      <th>DiabetesPedigreeFunction</th>\n",
       "      <th>Age</th>\n",
       "      <th>Outcome</th>\n",
       "    </tr>\n",
       "  </thead>\n",
       "  <tbody>\n",
       "    <tr>\n",
       "      <th>0</th>\n",
       "      <td>4</td>\n",
       "      <td>189</td>\n",
       "      <td>110</td>\n",
       "      <td>31</td>\n",
       "      <td>0</td>\n",
       "      <td>28.5</td>\n",
       "      <td>0.680</td>\n",
       "      <td>37</td>\n",
       "      <td>0</td>\n",
       "    </tr>\n",
       "    <tr>\n",
       "      <th>1</th>\n",
       "      <td>1</td>\n",
       "      <td>84</td>\n",
       "      <td>64</td>\n",
       "      <td>23</td>\n",
       "      <td>115</td>\n",
       "      <td>36.9</td>\n",
       "      <td>0.471</td>\n",
       "      <td>28</td>\n",
       "      <td>0</td>\n",
       "    </tr>\n",
       "    <tr>\n",
       "      <th>2</th>\n",
       "      <td>8</td>\n",
       "      <td>95</td>\n",
       "      <td>72</td>\n",
       "      <td>0</td>\n",
       "      <td>0</td>\n",
       "      <td>36.8</td>\n",
       "      <td>0.485</td>\n",
       "      <td>57</td>\n",
       "      <td>0</td>\n",
       "    </tr>\n",
       "    <tr>\n",
       "      <th>3</th>\n",
       "      <td>5</td>\n",
       "      <td>73</td>\n",
       "      <td>60</td>\n",
       "      <td>0</td>\n",
       "      <td>0</td>\n",
       "      <td>26.8</td>\n",
       "      <td>0.268</td>\n",
       "      <td>27</td>\n",
       "      <td>0</td>\n",
       "    </tr>\n",
       "    <tr>\n",
       "      <th>4</th>\n",
       "      <td>7</td>\n",
       "      <td>187</td>\n",
       "      <td>50</td>\n",
       "      <td>33</td>\n",
       "      <td>392</td>\n",
       "      <td>33.9</td>\n",
       "      <td>0.826</td>\n",
       "      <td>34</td>\n",
       "      <td>1</td>\n",
       "    </tr>\n",
       "    <tr>\n",
       "      <th>...</th>\n",
       "      <td>...</td>\n",
       "      <td>...</td>\n",
       "      <td>...</td>\n",
       "      <td>...</td>\n",
       "      <td>...</td>\n",
       "      <td>...</td>\n",
       "      <td>...</td>\n",
       "      <td>...</td>\n",
       "      <td>...</td>\n",
       "    </tr>\n",
       "    <tr>\n",
       "      <th>763</th>\n",
       "      <td>5</td>\n",
       "      <td>115</td>\n",
       "      <td>76</td>\n",
       "      <td>0</td>\n",
       "      <td>0</td>\n",
       "      <td>31.2</td>\n",
       "      <td>0.343</td>\n",
       "      <td>44</td>\n",
       "      <td>1</td>\n",
       "    </tr>\n",
       "    <tr>\n",
       "      <th>764</th>\n",
       "      <td>4</td>\n",
       "      <td>117</td>\n",
       "      <td>62</td>\n",
       "      <td>12</td>\n",
       "      <td>0</td>\n",
       "      <td>29.7</td>\n",
       "      <td>0.380</td>\n",
       "      <td>30</td>\n",
       "      <td>1</td>\n",
       "    </tr>\n",
       "    <tr>\n",
       "      <th>765</th>\n",
       "      <td>5</td>\n",
       "      <td>104</td>\n",
       "      <td>74</td>\n",
       "      <td>0</td>\n",
       "      <td>0</td>\n",
       "      <td>28.8</td>\n",
       "      <td>0.153</td>\n",
       "      <td>48</td>\n",
       "      <td>0</td>\n",
       "    </tr>\n",
       "    <tr>\n",
       "      <th>766</th>\n",
       "      <td>5</td>\n",
       "      <td>114</td>\n",
       "      <td>74</td>\n",
       "      <td>0</td>\n",
       "      <td>0</td>\n",
       "      <td>24.9</td>\n",
       "      <td>0.744</td>\n",
       "      <td>57</td>\n",
       "      <td>0</td>\n",
       "    </tr>\n",
       "    <tr>\n",
       "      <th>767</th>\n",
       "      <td>0</td>\n",
       "      <td>57</td>\n",
       "      <td>60</td>\n",
       "      <td>0</td>\n",
       "      <td>0</td>\n",
       "      <td>21.7</td>\n",
       "      <td>0.735</td>\n",
       "      <td>67</td>\n",
       "      <td>0</td>\n",
       "    </tr>\n",
       "  </tbody>\n",
       "</table>\n",
       "<p>768 rows × 9 columns</p>\n",
       "</div>"
      ],
      "text/plain": [
       "     Pregnancies  Glucose  BloodPressure  SkinThickness  Insulin   BMI  \\\n",
       "0              4      189            110             31        0  28.5   \n",
       "1              1       84             64             23      115  36.9   \n",
       "2              8       95             72              0        0  36.8   \n",
       "3              5       73             60              0        0  26.8   \n",
       "4              7      187             50             33      392  33.9   \n",
       "..           ...      ...            ...            ...      ...   ...   \n",
       "763            5      115             76              0        0  31.2   \n",
       "764            4      117             62             12        0  29.7   \n",
       "765            5      104             74              0        0  28.8   \n",
       "766            5      114             74              0        0  24.9   \n",
       "767            0       57             60              0        0  21.7   \n",
       "\n",
       "     DiabetesPedigreeFunction  Age  Outcome  \n",
       "0                       0.680   37        0  \n",
       "1                       0.471   28        0  \n",
       "2                       0.485   57        0  \n",
       "3                       0.268   27        0  \n",
       "4                       0.826   34        1  \n",
       "..                        ...  ...      ...  \n",
       "763                     0.343   44        1  \n",
       "764                     0.380   30        1  \n",
       "765                     0.153   48        0  \n",
       "766                     0.744   57        0  \n",
       "767                     0.735   67        0  \n",
       "\n",
       "[768 rows x 9 columns]"
      ]
     },
     "execution_count": 3,
     "metadata": {},
     "output_type": "execute_result"
    }
   ],
   "source": [
    "import pandas as pd\n",
    "from sklearn.model_selection import train_test_split\n",
    "\n",
    "\n",
    "# load dataset \n",
    "data_file = os.path.join(\"data\", config[\"data\"])    # dataset file (default: ./data/diabetes2_csv.csv)\n",
    "X, y = load_dataset(data_file, config[\"drop\"], config[\"target\"])    # load dataset using pandas\n",
    "\n",
    "\n",
    "# then preprocess and split into training and testing\n",
    "X_prep = preprocess_data(X)  # then preprocess the loaded dataset\n",
    "X_train, X_test, y_train, y_test = train_test_split(X_prep, y, test_size=config[\"test_size\"])  # split dataset\n",
    "\n",
    "\n",
    "pd.concat([X, y], axis=1)"
   ]
  },
  {
   "cell_type": "code",
   "execution_count": 4,
   "metadata": {},
   "outputs": [],
   "source": [
    "from sklearn.linear_model import LogisticRegression\n",
    "\n",
    "\n",
    "# prepare the ml model using logistic regression\n",
    "model = LogisticRegression()\n",
    "model.fit(X_train, y_train.values.ravel())\n",
    "\n",
    "# predict the test dataset\n",
    "y_pred = model.predict(X_test)"
   ]
  },
  {
   "cell_type": "code",
   "execution_count": 5,
   "metadata": {},
   "outputs": [
    {
     "name": "stdout",
     "output_type": "stream",
     "text": [
      "[*] model has been saved at -> saved_model\\10_02_2020-17_05_45.pickle\n"
     ]
    }
   ],
   "source": [
    "# [Optional] you can skip this if you don't need to save/load it\n",
    "\n",
    "# save model after training\n",
    "save_dir = save_model(model)\n",
    "print(\"[*] model has been saved at ->\", save_dir)\n",
    "\n",
    "\n",
    "# load the saved model again to recheck that saving is completed\n",
    "loaded_model = load_model(save_dir)"
   ]
  },
  {
   "cell_type": "code",
   "execution_count": 6,
   "metadata": {},
   "outputs": [
    {
     "name": "stdout",
     "output_type": "stream",
     "text": [
      "[*] from testing data 254 rows.\n",
      "\n",
      "True Positive: 43 \t True Negative: 137\n",
      "False Positive: 19 \t False Negative: 55\n",
      "\n",
      "Accuracy: 0.7087\n",
      "Precision: 0.6935\n",
      "Recall: 0.4388\n",
      "F1 score: 0.5375\n"
     ]
    }
   ],
   "source": [
    "from sklearn.metrics import confusion_matrix\n",
    "from sklearn.metrics import accuracy_score\n",
    "from sklearn.metrics import precision_score\n",
    "from sklearn.metrics import recall_score\n",
    "from sklearn.metrics import f1_score\n",
    "\n",
    "\n",
    "# evaluate the score included\n",
    "#   * Confusion matrix -> (true_neg, false_pos, false_neg, true_pos)\n",
    "#   * Precision score\n",
    "#   * Recall score\n",
    "#   * F1 score\n",
    "true_neg, false_pos, false_neg, true_pos = confusion_matrix(y_test, y_pred).ravel()\n",
    "print(\"[*] from testing data\", len(y_test), \"rows.\")\n",
    "\n",
    "print(\"\")\n",
    "print(\"True Positive:\", true_pos, \"\\t\", \"True Negative:\", true_neg)\n",
    "print(\"False Positive:\", false_pos, \"\\t\", \"False Negative:\", false_neg)\n",
    "\n",
    "print(\"\")\n",
    "print(\"Accuracy: {:.4f}\".format(accuracy_score(y_test, y_pred)))\n",
    "print(\"Precision: {:.4f}\".format(precision_score(y_test, y_pred)))\n",
    "print(\"Recall: {:.4f}\".format(recall_score(y_test, y_pred)))\n",
    "print(\"F1 score: {:.4f}\".format(f1_score(y_test, y_pred)))"
   ]
  },
  {
   "cell_type": "code",
   "execution_count": 7,
   "metadata": {},
   "outputs": [
    {
     "data": {
      "image/png": "[encoded data removed]",
      "text/plain": [
       "<Figure size 432x288 with 2 Axes>"
      ]
     },
     "metadata": {
      "needs_background": "light"
     },
     "output_type": "display_data"
    }
   ],
   "source": [
    "import matplotlib.pyplot as plt\n",
    "from sklearn.metrics import plot_confusion_matrix\n",
    "\n",
    "\n",
    "# Plot a confusion matrix\n",
    "title = \"Confusion matrix, of diabetes regessor\"\n",
    "disp = plot_confusion_matrix(\n",
    "    model, \n",
    "    X_test, y_test,\n",
    "    display_labels=[0,1],\n",
    "    cmap=plt.cm.Purples,\n",
    ")\n",
    "disp.ax_.set_title(title)\n",
    "plt.show()"
   ]
  },
  {
   "cell_type": "code",
   "execution_count": null,
   "metadata": {},
   "outputs": [],
   "source": []
  }
 ],
 "metadata": {
  "kernelspec": {
   "display_name": "Python 3",
   "language": "python",
   "name": "python3"
  },
  "language_info": {
   "codemirror_mode": {
    "name": "ipython",
    "version": 3
   },
   "file_extension": ".py",
   "mimetype": "text/x-python",
   "name": "python",
   "nbconvert_exporter": "python",
   "pygments_lexer": "ipython3",
   "version": "3.7.1"
  }
 },
 "nbformat": 4,
 "nbformat_minor": 2
}
